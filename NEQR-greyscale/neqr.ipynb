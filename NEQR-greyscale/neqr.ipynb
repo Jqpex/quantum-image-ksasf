{
 "cells": [
  {
   "cell_type": "code",
   "execution_count": 3,
   "metadata": {},
   "outputs": [],
   "source": [
    "import qiskit as qk\n",
    "from qiskit import QuantumCircuit\n",
    "from qiskit_ibm_runtime import QiskitRuntimeService\n",
    "from qiskit import transpile\n",
    "from qiskit.visualization import plot_histogram\n",
    "from math import pi\n",
    "from qiskit import *\n",
    "from qiskit_aer import AerSimulator\n",
    "from qiskit_aer.primitives import EstimatorV2, SamplerV2\n",
    "import matplotlib.pyplot as plt\n",
    "from qiskit_ibm_runtime import QiskitRuntimeService\n",
    "import pandas as pd\n",
    "import numpy as np\n",
    "import random\n",
    "from qiskit.circuit.library import RealAmplitudes\n",
    "from qiskit.quantum_info import SparsePauliOp\n",
    "from time import time\n",
    "from qiskit.circuit.library.standard_gates import RYGate, RYYGate"
   ]
  },
  {
   "cell_type": "code",
   "execution_count": 4,
   "metadata": {},
   "outputs": [
    {
     "data": {
      "image/png": "[encoded data removed]",
      "text/plain": [
       "<Figure size 640x480 with 1 Axes>"
      ]
     },
     "metadata": {},
     "output_type": "display_data"
    }
   ],
   "source": [
    "# Read the CSV file. \n",
    "# (Assuming the CSV has a label in the first column and pixel values in the remaining 64 columns, for an 8x8 image.)\n",
    "dataset = pd.read_csv('mnist-resized neqr.csv')\n",
    "\n",
    "# Select the first image, ignoring the label column.\n",
    "# Adjust slicing if your file has a different format.\n",
    "image_data = dataset.to_numpy()[0, 1:]\n",
    "# Reshape to an 8x8 array and ensure pixel values are integers (0-255)\n",
    "image = image_data.reshape(8, 8).astype(np.uint8)\n",
    "\n",
    "plt.imshow(image, cmap='gray')\n",
    "plt.title(\"Original Image\")\n",
    "plt.axis('off')\n",
    "plt.show()"
   ]
  },
  {
   "cell_type": "code",
   "execution_count": null,
   "metadata": {},
   "outputs": [
    {
     "ename": "CircuitError",
     "evalue": "'One or more of the arguments are empty'",
     "output_type": "error",
     "traceback": [
      "\u001b[31m---------------------------------------------------------------------------\u001b[39m",
      "\u001b[31mCircuitError\u001b[39m                              Traceback (most recent call last)",
      "\u001b[36mCell\u001b[39m\u001b[36m \u001b[39m\u001b[32mIn[32]\u001b[39m\u001b[32m, line 37\u001b[39m\n\u001b[32m     34\u001b[39m     encode_pixel_values(circ, position_qubits, intensity_qubits, pixel_values)\n\u001b[32m     36\u001b[39m \u001b[38;5;66;03m# Apply NEQR encoding\u001b[39;00m\n\u001b[32m---> \u001b[39m\u001b[32m37\u001b[39m \u001b[43mneqr\u001b[49m\u001b[43m(\u001b[49m\u001b[43mqc\u001b[49m\u001b[43m,\u001b[49m\u001b[43m \u001b[49m\u001b[43mposition_qubits\u001b[49m\u001b[43m,\u001b[49m\u001b[43m \u001b[49m\u001b[43mintensity_qubits\u001b[49m\u001b[43m,\u001b[49m\u001b[43m \u001b[49m\u001b[43mpixel_values\u001b[49m\u001b[43m)\u001b[49m\n\u001b[32m     39\u001b[39m \u001b[38;5;66;03m# Measure all qubits\u001b[39;00m\n\u001b[32m     40\u001b[39m qc.measure(position_qubits[:] + intensity_qubits[:], classical_bits[:])\n",
      "\u001b[36mCell\u001b[39m\u001b[36m \u001b[39m\u001b[32mIn[32]\u001b[39m\u001b[32m, line 34\u001b[39m, in \u001b[36mneqr\u001b[39m\u001b[34m(circ, position_qubits, intensity_qubits, pixel_values)\u001b[39m\n\u001b[32m     32\u001b[39m \u001b[38;5;28;01mdef\u001b[39;00m\u001b[38;5;250m \u001b[39m\u001b[34mneqr\u001b[39m(circ, position_qubits, intensity_qubits, pixel_values):\n\u001b[32m     33\u001b[39m     hadamard(circ, position_qubits)\n\u001b[32m---> \u001b[39m\u001b[32m34\u001b[39m     \u001b[43mencode_pixel_values\u001b[49m\u001b[43m(\u001b[49m\u001b[43mcirc\u001b[49m\u001b[43m,\u001b[49m\u001b[43m \u001b[49m\u001b[43mposition_qubits\u001b[49m\u001b[43m,\u001b[49m\u001b[43m \u001b[49m\u001b[43mintensity_qubits\u001b[49m\u001b[43m,\u001b[49m\u001b[43m \u001b[49m\u001b[43mpixel_values\u001b[49m\u001b[43m)\u001b[49m\n",
      "\u001b[36mCell\u001b[39m\u001b[36m \u001b[39m\u001b[32mIn[32]\u001b[39m\u001b[32m, line 22\u001b[39m, in \u001b[36mencode_pixel_values\u001b[39m\u001b[34m(circ, position_qubits, intensity_qubits, pixel_values)\u001b[39m\n\u001b[32m     20\u001b[39m \u001b[38;5;66;03m# Determine which qubits need X gates to \"select\" |1> for controls\u001b[39;00m\n\u001b[32m     21\u001b[39m x_qubits = [q \u001b[38;5;28;01mfor\u001b[39;00m q, bit \u001b[38;5;129;01min\u001b[39;00m \u001b[38;5;28menumerate\u001b[39m(bin_idx) \u001b[38;5;28;01mif\u001b[39;00m bit == \u001b[33m'\u001b[39m\u001b[33m0\u001b[39m\u001b[33m'\u001b[39m]\n\u001b[32m---> \u001b[39m\u001b[32m22\u001b[39m \u001b[43mcirc\u001b[49m\u001b[43m.\u001b[49m\u001b[43mx\u001b[49m\u001b[43m(\u001b[49m\u001b[43mx_qubits\u001b[49m\u001b[43m)\u001b[49m\n\u001b[32m     23\u001b[39m \u001b[38;5;66;03m# Encode intensity\u001b[39;00m\n\u001b[32m     24\u001b[39m intensity_bin = \u001b[38;5;28mformat\u001b[39m(pixel, \u001b[33mf\u001b[39m\u001b[33m'\u001b[39m\u001b[33m0\u001b[39m\u001b[38;5;132;01m{\u001b[39;00m\u001b[38;5;28mlen\u001b[39m(intensity_qubits)\u001b[38;5;132;01m}\u001b[39;00m\u001b[33mb\u001b[39m\u001b[33m'\u001b[39m)\n",
      "\u001b[36mFile \u001b[39m\u001b[32mc:\\anaconda3\\envs\\KSASF-Quantum-Image-Processing\\Lib\\site-packages\\qiskit\\circuit\\quantumcircuit.py:5609\u001b[39m, in \u001b[36mQuantumCircuit.x\u001b[39m\u001b[34m(self, qubit, label)\u001b[39m\n\u001b[32m   5597\u001b[39m \u001b[38;5;28;01mdef\u001b[39;00m\u001b[38;5;250m \u001b[39m\u001b[34mx\u001b[39m(\u001b[38;5;28mself\u001b[39m, qubit: QubitSpecifier, label: \u001b[38;5;28mstr\u001b[39m | \u001b[38;5;28;01mNone\u001b[39;00m = \u001b[38;5;28;01mNone\u001b[39;00m) -> InstructionSet:\n\u001b[32m   5598\u001b[39m \u001b[38;5;250m    \u001b[39m\u001b[33mr\u001b[39m\u001b[33;03m\"\"\"Apply :class:`~qiskit.circuit.library.XGate`.\u001b[39;00m\n\u001b[32m   5599\u001b[39m \n\u001b[32m   5600\u001b[39m \u001b[33;03m    For the full matrix form of this gate, see the underlying gate documentation.\u001b[39;00m\n\u001b[32m   (...)\u001b[39m\u001b[32m   5607\u001b[39m \u001b[33;03m        A handle to the instructions created.\u001b[39;00m\n\u001b[32m   5608\u001b[39m \u001b[33;03m    \"\"\"\u001b[39;00m\n\u001b[32m-> \u001b[39m\u001b[32m5609\u001b[39m     \u001b[38;5;28;01mreturn\u001b[39;00m \u001b[38;5;28;43mself\u001b[39;49m\u001b[43m.\u001b[49m\u001b[43m_append_standard_gate\u001b[49m\u001b[43m(\u001b[49m\u001b[43mStandardGate\u001b[49m\u001b[43m.\u001b[49m\u001b[43mXGate\u001b[49m\u001b[43m,\u001b[49m\u001b[43m \u001b[49m\u001b[43m[\u001b[49m\u001b[43mqubit\u001b[49m\u001b[43m]\u001b[49m\u001b[43m,\u001b[49m\u001b[43m \u001b[49m\u001b[43m(\u001b[49m\u001b[43m)\u001b[49m\u001b[43m,\u001b[49m\u001b[43m \u001b[49m\u001b[43mlabel\u001b[49m\u001b[43m=\u001b[49m\u001b[43mlabel\u001b[49m\u001b[43m)\u001b[49m\n",
      "\u001b[36mFile \u001b[39m\u001b[32mc:\\anaconda3\\envs\\KSASF-Quantum-Image-Processing\\Lib\\site-packages\\qiskit\\circuit\\quantumcircuit.py:2392\u001b[39m, in \u001b[36mQuantumCircuit._append_standard_gate\u001b[39m\u001b[34m(self, op, qargs, params, label)\u001b[39m\n\u001b[32m   2389\u001b[39m     Gate.validate_parameter(op, param)\n\u001b[32m   2391\u001b[39m instructions = InstructionSet(resource_requester=circuit_scope.resolve_classical_resource)\n\u001b[32m-> \u001b[39m\u001b[32m2392\u001b[39m \u001b[38;5;28;01mfor\u001b[39;00m qarg, _ \u001b[38;5;129;01min\u001b[39;00m \u001b[43mGate\u001b[49m\u001b[43m.\u001b[49m\u001b[43mbroadcast_arguments\u001b[49m\u001b[43m(\u001b[49m\u001b[43mop\u001b[49m\u001b[43m,\u001b[49m\u001b[43m \u001b[49m\u001b[43mexpanded_qargs\u001b[49m\u001b[43m,\u001b[49m\u001b[43m \u001b[49m\u001b[43m[\u001b[49m\u001b[43m]\u001b[49m\u001b[43m)\u001b[49m:\n\u001b[32m   2393\u001b[39m     \u001b[38;5;28mself\u001b[39m._check_dups(qarg)\n\u001b[32m   2394\u001b[39m     instruction = CircuitInstruction.from_standard(op, qarg, params, label=label)\n",
      "\u001b[36mFile \u001b[39m\u001b[32mc:\\anaconda3\\envs\\KSASF-Quantum-Image-Processing\\Lib\\site-packages\\qiskit\\circuit\\gate.py:232\u001b[39m, in \u001b[36mGate.broadcast_arguments\u001b[39m\u001b[34m(self, qargs, cargs)\u001b[39m\n\u001b[32m    226\u001b[39m     \u001b[38;5;28;01mraise\u001b[39;00m CircuitError(\n\u001b[32m    227\u001b[39m         \u001b[33mf\u001b[39m\u001b[33m\"\u001b[39m\u001b[33mThe amount of qubit(\u001b[39m\u001b[38;5;132;01m{\u001b[39;00m\u001b[38;5;28mlen\u001b[39m(qargs)\u001b[38;5;132;01m}\u001b[39;00m\u001b[33m)/clbit(\u001b[39m\u001b[38;5;132;01m{\u001b[39;00m\u001b[38;5;28mlen\u001b[39m(cargs)\u001b[38;5;132;01m}\u001b[39;00m\u001b[33m) arguments does\u001b[39m\u001b[33m\"\u001b[39m\n\u001b[32m    228\u001b[39m         \u001b[33mf\u001b[39m\u001b[33m\"\u001b[39m\u001b[33m not match the gate expectation (\u001b[39m\u001b[38;5;132;01m{\u001b[39;00m\u001b[38;5;28mself\u001b[39m.num_qubits\u001b[38;5;132;01m}\u001b[39;00m\u001b[33m).\u001b[39m\u001b[33m\"\u001b[39m\n\u001b[32m    229\u001b[39m     )\n\u001b[32m    231\u001b[39m \u001b[38;5;28;01mif\u001b[39;00m \u001b[38;5;28many\u001b[39m(\u001b[38;5;129;01mnot\u001b[39;00m qarg \u001b[38;5;28;01mfor\u001b[39;00m qarg \u001b[38;5;129;01min\u001b[39;00m qargs):\n\u001b[32m--> \u001b[39m\u001b[32m232\u001b[39m     \u001b[38;5;28;01mraise\u001b[39;00m CircuitError(\u001b[33m\"\u001b[39m\u001b[33mOne or more of the arguments are empty\u001b[39m\u001b[33m\"\u001b[39m)\n\u001b[32m    234\u001b[39m \u001b[38;5;28;01mif\u001b[39;00m \u001b[38;5;28mlen\u001b[39m(qargs) == \u001b[32m0\u001b[39m:\n\u001b[32m    235\u001b[39m     \u001b[38;5;28;01mreturn\u001b[39;00m [\n\u001b[32m    236\u001b[39m         ([], []),\n\u001b[32m    237\u001b[39m     ]\n",
      "\u001b[31mCircuitError\u001b[39m: 'One or more of the arguments are empty'"
     ]
    }
   ],
   "source": [
    "# Normalize pixel values to 8-bit integers (0-255)\n",
    "pixel_values = image.flatten()\n",
    "\n",
    "# Declare the Quantum and Classical registers\n",
    "position_qubits = QuantumRegister(6, 'pos')  # 6 qubits for 64 positions\n",
    "intensity_qubits = QuantumRegister(8, 'int')  # 8 qubits for intensity (8-bit grayscale)\n",
    "classical_bits = ClassicalRegister(14, 'c')  # For measurement\n",
    "qc = QuantumCircuit(position_qubits, intensity_qubits, classical_bits)\n",
    "\n",
    "# Function to apply Hadamard gates to position qubits\n",
    "def hadamard(circ, n):\n",
    "    for i in n:\n",
    "        circ.h(i)\n",
    "\n",
    "def encode_pixel_values(circ, position_qubits, intensity_qubits, pixel_values):\n",
    "    num_position_qubits = len(position_qubits)\n",
    "    num_intensity_qubits = len(intensity_qubits)\n",
    "    \n",
    "    for idx, pixel in enumerate(pixel_values):\n",
    "        # Convert index to binary (with leading zeros)\n",
    "        bin_idx = format(idx, f'0{num_position_qubits}b')\n",
    "        \n",
    "        # Step 1: Apply X gates to \"select\" the current position\n",
    "        x_qubits = [\n",
    "            position_qubits[i] \n",
    "            for i, bit in enumerate(bin_idx) \n",
    "            if bit == '0'\n",
    "        ]\n",
    "        # Apply X gates one by one\n",
    "        for q in x_qubits:\n",
    "            circ.x(q)\n",
    "        \n",
    "        # Step 2: Encode intensity (binary value of the pixel)\n",
    "        intensity_bin = format(pixel, f'0{num_intensity_qubits}b')\n",
    "        for i, bit in enumerate(intensity_bin):\n",
    "            if bit == '1':\n",
    "                # Apply multi-controlled X gate (controls=position_qubits, target=intensity_qubits[i])\n",
    "                circ.mcx(\n",
    "                    control_qubits=position_qubits, \n",
    "                    target_qubit=intensity_qubits[i]\n",
    "                )\n",
    "        \n",
    "        # Step 3: Uncompute X gates to reset position qubits\n",
    "        for q in x_qubits:\n",
    "            circ.x(q)\n",
    "\n",
    "\n",
    "# NEQR function to encode the image\n",
    "def neqr(circ, position_qubits, intensity_qubits, pixel_values):\n",
    "    # Apply Hadamard to position qubits to create superposition\n",
    "    circ.h(position_qubits)\n",
    "    # Encode pixel values\n",
    "    encode_pixel_values(circ, position_qubits, intensity_qubits, pixel_values)\n",
    "\n",
    "\n",
    "# Apply NEQR encoding\n",
    "neqr(qc, position_qubits, intensity_qubits, pixel_values)\n",
    "\n",
    "# Measure all qubits\n",
    "qc.measure(position_qubits[:] + intensity_qubits[:], classical_bits[:])\n",
    "\n",
    "# Visualize the circuit\n",
    "qc.draw('mpl')"
   ]
  },
  {
   "cell_type": "code",
   "execution_count": null,
   "metadata": {},
   "outputs": [
    {
     "name": "stdout",
     "output_type": "stream",
     "text": [
      "Simplified counts: {'00000000101110': 183, '00000000110010': 138, '00000000000101': 152, '00000000011001': 161, '00000000101000': 154, '00000000100000': 157, '00000000001000': 161, '00000000010110': 161, '00000000000011': 152, '10010000110110': 148, '00000000110100': 161, '00000000011110': 136, '00000000011010': 170, '00011000110011': 164, '00000000110000': 170, '01100110110101': 168, '10100110010101': 176, '00000000000111': 160, '00000000111010': 151, '10010111110001': 147, '00000000001111': 141, '00000000100110': 150, '00000000101101': 165, '00000000000100': 145, '11011111001110': 160, '00000000111110': 156, '00000000100010': 156, '00000000001011': 170, '00000000100101': 159, '00000000111011': 150, '00000000000000': 147, '00000000110111': 171, '00000000111101': 155, '00000000100011': 169, '00000000001100': 162, '00000000011101': 142, '00000000111000': 152, '11001011101010': 150, '00000000010010': 144, '00000000101011': 172, '00000000000010': 184, '00000000000110': 166, '00000000101111': 160, '00000000011000': 149, '00000000111111': 158, '00000000100001': 166, '00000000011111': 156, '10100010011100': 158, '00000000010111': 141, '00000000100111': 153, '11000000001001': 160, '00000000001101': 170, '00000000111100': 159, '00000000100100': 155, '00000000010001': 144, '00111000001010': 138, '00000000000001': 150, '00000000010100': 146, '00000000101001': 151, '11010110101100': 152, '00000000010000': 140, '00000000111001': 142, '00000000011011': 144, '01001111010011': 172}\n"
     ]
    }
   ],
   "source": [
    "# Simulate the circuit\n",
    "simulator = AerSimulator()\n",
    "t_qc = qk.transpile(qc, simulator)\n",
    "result = simulator.run(t_qc, shots=10000).result()\n",
    "counts = result.get_counts()\n",
    "\n",
    "# Plot the histogram of results\n",
    "plot_histogram(counts, title=\"Measurement Outcomes\", bar_labels=True, color=\"blue\")\n",
    "plt.show()\n",
    "\n",
    "# Print the counts dictionary\n",
    "print(\"Counts from simulation:\")\n",
    "for key, value in counts.items():\n",
    "    print(f\"{key}: {value}\")\n",
    "\n",
    "    "
   ]
  },
  {
   "cell_type": "code",
   "execution_count": 21,
   "metadata": {},
   "outputs": [
    {
     "name": "stdout",
     "output_type": "stream",
     "text": [
      "Position 0 (binary 000000): Intensity binary 11111111, Intensity value 255\n",
      "Position 1 (binary 000001): Intensity binary 00000000, Intensity value 0\n",
      "Position 2 (binary 000010): Intensity binary 00000000, Intensity value 0\n",
      "Position 3 (binary 000011): Intensity binary 00000000, Intensity value 0\n",
      "Position 4 (binary 000100): Intensity binary 00000000, Intensity value 0\n",
      "Position 5 (binary 000101): Intensity binary 00000000, Intensity value 0\n",
      "Position 6 (binary 000110): Intensity binary 00000000, Intensity value 0\n",
      "Position 7 (binary 000111): Intensity binary 00000000, Intensity value 0\n",
      "Position 8 (binary 001000): Intensity binary 00000000, Intensity value 0\n",
      "Position 9 (binary 001001): Intensity binary 00000000, Intensity value 0\n",
      "Position 10 (binary 001010): Intensity binary 00000000, Intensity value 0\n",
      "Position 11 (binary 001011): Intensity binary 00000000, Intensity value 0\n",
      "Position 12 (binary 001100): Intensity binary 00000000, Intensity value 0\n",
      "Position 13 (binary 001101): Intensity binary 00000000, Intensity value 0\n",
      "Position 14 (binary 001110): Intensity binary 00000000, Intensity value 0\n",
      "Position 15 (binary 001111): Intensity binary 00000000, Intensity value 0\n",
      "Position 16 (binary 010000): Intensity binary 00000000, Intensity value 0\n",
      "Position 17 (binary 010001): Intensity binary 00000000, Intensity value 0\n",
      "Position 18 (binary 010010): Intensity binary 00000000, Intensity value 0\n",
      "Position 19 (binary 010011): Intensity binary 00000000, Intensity value 0\n",
      "Position 20 (binary 010100): Intensity binary 00000000, Intensity value 0\n",
      "Position 21 (binary 010101): Intensity binary 00000000, Intensity value 0\n",
      "Position 22 (binary 010110): Intensity binary 00000000, Intensity value 0\n",
      "Position 23 (binary 010111): Intensity binary 00000000, Intensity value 0\n",
      "Position 24 (binary 011000): Intensity binary 00000000, Intensity value 0\n",
      "Position 25 (binary 011001): Intensity binary 00000000, Intensity value 0\n",
      "Position 26 (binary 011010): Intensity binary 00000000, Intensity value 0\n",
      "Position 27 (binary 011011): Intensity binary 00000000, Intensity value 0\n",
      "Position 28 (binary 011100): Intensity binary 00000000, Intensity value 0\n",
      "Position 29 (binary 011101): Intensity binary 00000000, Intensity value 0\n",
      "Position 30 (binary 011110): Intensity binary 00000000, Intensity value 0\n",
      "Position 31 (binary 011111): Intensity binary 00000000, Intensity value 0\n",
      "Position 32 (binary 100000): Intensity binary 00000000, Intensity value 0\n",
      "Position 33 (binary 100001): Intensity binary 00000000, Intensity value 0\n",
      "Position 34 (binary 100010): Intensity binary 00000000, Intensity value 0\n",
      "Position 35 (binary 100011): Intensity binary 00000000, Intensity value 0\n",
      "Position 36 (binary 100100): Intensity binary 00000000, Intensity value 0\n",
      "Position 37 (binary 100101): Intensity binary 00000000, Intensity value 0\n",
      "Position 38 (binary 100110): Intensity binary 00000000, Intensity value 0\n",
      "Position 39 (binary 100111): Intensity binary 00000000, Intensity value 0\n",
      "Position 40 (binary 101000): Intensity binary 00000000, Intensity value 0\n",
      "Position 41 (binary 101001): Intensity binary 00000000, Intensity value 0\n",
      "Position 42 (binary 101010): Intensity binary 00000000, Intensity value 0\n",
      "Position 43 (binary 101011): Intensity binary 00000000, Intensity value 0\n",
      "Position 44 (binary 101100): Intensity binary 00000000, Intensity value 0\n",
      "Position 45 (binary 101101): Intensity binary 00000000, Intensity value 0\n",
      "Position 46 (binary 101110): Intensity binary 00000000, Intensity value 0\n",
      "Position 47 (binary 101111): Intensity binary 00000000, Intensity value 0\n",
      "Position 48 (binary 110000): Intensity binary 00000000, Intensity value 0\n",
      "Position 49 (binary 110001): Intensity binary 00000000, Intensity value 0\n",
      "Position 50 (binary 110010): Intensity binary 00000000, Intensity value 0\n",
      "Position 51 (binary 110011): Intensity binary 00000000, Intensity value 0\n",
      "Position 52 (binary 110100): Intensity binary 00000000, Intensity value 0\n",
      "Position 53 (binary 110101): Intensity binary 00000000, Intensity value 0\n",
      "Position 54 (binary 110110): Intensity binary 00000000, Intensity value 0\n",
      "Position 55 (binary 110111): Intensity binary 00000000, Intensity value 0\n",
      "Position 56 (binary 111000): Intensity binary 00000000, Intensity value 0\n",
      "Position 57 (binary 111001): Intensity binary 00000000, Intensity value 0\n",
      "Position 58 (binary 111010): Intensity binary 00000000, Intensity value 0\n",
      "Position 59 (binary 111011): Intensity binary 00000000, Intensity value 0\n",
      "Position 60 (binary 111100): Intensity binary 00000000, Intensity value 0\n",
      "Position 61 (binary 111101): Intensity binary 00000000, Intensity value 0\n",
      "Position 62 (binary 111110): Intensity binary 00000000, Intensity value 0\n",
      "Position 63 (binary 111111): Intensity binary 00000000, Intensity value 0\n"
     ]
    },
    {
     "data": {
      "image/png": "[encoded data removed]",
      "text/plain": [
       "<Figure size 640x480 with 1 Axes>"
      ]
     },
     "metadata": {},
     "output_type": "display_data"
    }
   ],
   "source": [
    "# Retrieve the image from the measurement results\n",
    "retrieve_image = np.zeros(64)\n",
    "for i in range(64):\n",
    "    position_binary = f\"{i:06b}\"\n",
    "    intensity_binary = \"\"\n",
    "    for j in range(8):\n",
    "        key = position_binary + f\"{j:08b}\"\n",
    "        if key in counts:\n",
    "            intensity_binary += \"1\"\n",
    "        else:\n",
    "            intensity_binary += \"0\"\n",
    "    intensity_value = int(intensity_binary, 2)\n",
    "    print(f\"Position {i} (binary {position_binary}): Intensity binary {intensity_binary}, Intensity value {intensity_value}\")\n",
    "    retrieve_image[i] = intensity_value\n",
    "\n",
    "# Reshape the retrieved image to 8x8\n",
    "retrieve_image = retrieve_image.reshape((8, 8))\n",
    "\n",
    "# Plot the retrieved image\n",
    "plt.imshow(retrieve_image, cmap='gray', vmin=0, vmax=255)\n",
    "plt.title(\"Retrieved Image\")\n",
    "plt.axis('off')\n",
    "plt.show()"
   ]
  },
  {
   "cell_type": "code",
   "execution_count": null,
   "metadata": {},
   "outputs": [],
   "source": []
  }
 ],
 "metadata": {
  "kernelspec": {
   "display_name": "KSASF-Quantum-Image-Processing",
   "language": "python",
   "name": "python3"
  },
  "language_info": {
   "codemirror_mode": {
    "name": "ipython",
    "version": 3
   },
   "file_extension": ".py",
   "mimetype": "text/x-python",
   "name": "python",
   "nbconvert_exporter": "python",
   "pygments_lexer": "ipython3",
   "version": "3.13.3"
  }
 },
 "nbformat": 4,
 "nbformat_minor": 2
}
