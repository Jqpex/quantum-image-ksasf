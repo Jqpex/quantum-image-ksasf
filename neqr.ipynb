{
 "cells": [
  {
   "cell_type": "code",
   "execution_count": 1,
   "metadata": {},
   "outputs": [],
   "source": [
    "import qiskit as qk\n",
    "from qiskit import QuantumCircuit\n",
    "from qiskit_ibm_runtime import QiskitRuntimeService\n",
    "from qiskit import transpile\n",
    "from qiskit.visualization import plot_histogram\n",
    "from math import pi\n",
    "from qiskit import *\n",
    "from qiskit_aer import AerSimulator\n",
    "from qiskit_aer.primitives import EstimatorV2, SamplerV2\n",
    "import matplotlib.pyplot as plt\n",
    "from qiskit_ibm_runtime import QiskitRuntimeService\n",
    "import pandas as pd\n",
    "import numpy as np\n",
    "import random\n",
    "from qiskit.circuit.library import RealAmplitudes\n",
    "from qiskit.quantum_info import SparsePauliOp\n",
    "from time import time\n",
    "from qiskit.circuit.library.standard_gates import RYGate, RYYGate"
   ]
  },
  {
   "cell_type": "code",
   "execution_count": 2,
   "metadata": {},
   "outputs": [
    {
     "data": {
      "image/png": "[encoded data removed]",
      "text/plain": [
       "<Figure size 640x480 with 1 Axes>"
      ]
     },
     "metadata": {},
     "output_type": "display_data"
    }
   ],
   "source": [
    "\n",
    "dataset = pd.read_csv('mnist_dataset.csv')\n",
    "selected_index = 9\n",
    "image_data = dataset.iloc[selected_index, 1:].to_numpy()\n",
    "image = image_data.reshape(8, 8).astype(np.uint8)\n",
    "\n",
    "plt.imshow(image, cmap='gray', vmin=0, vmax=255)\n",
    "plt.title(f\"Original Image (Index = {selected_index})\")\n",
    "plt.axis('off')\n",
    "plt.show()"
   ]
  },
  {
   "cell_type": "code",
   "execution_count": 3,
   "metadata": {},
   "outputs": [
    {
     "data": {
      "text/plain": [
       "<qiskit.circuit.instructionset.InstructionSet at 0x141cbeb30>"
      ]
     },
     "execution_count": 3,
     "metadata": {},
     "output_type": "execute_result"
    }
   ],
   "source": [
    "# Normalize pixel values to 8-bit integers (0-255)\n",
    "pixel_values = image.flatten()\n",
    "\n",
    "# Declare the Quantum and Classical registers\n",
    "position_qubits = QuantumRegister(6, 'pos')  # 6 qubits for 64 positions\n",
    "intensity_qubits = QuantumRegister(8, 'int')  # 8 qubits for intensity (8-bit grayscale)\n",
    "classical_bits = ClassicalRegister(14, 'c')  # For measurement\n",
    "qc = QuantumCircuit(position_qubits, intensity_qubits, classical_bits)\n",
    "\n",
    "# Function to apply Hadamard gates to position qubits\n",
    "def hadamard(circ, n):\n",
    "    for i in n:\n",
    "        circ.h(i)\n",
    "\n",
    "def encode_pixel_values(circ, position_qubits, intensity_qubits, pixel_vals):\n",
    "    n = len(position_qubits)\n",
    "    m = len(intensity_qubits)\n",
    "\n",
    "    for idx, pixel in enumerate(pixel_vals):\n",
    "        # big-endian index & intensity strings\n",
    "        bin_idx       = format(idx,   f'0{n}b')  \n",
    "        intensity_bin = format(pixel, f'0{m}b')\n",
    "\n",
    "        # 1) “select” the basis state |idx⟩ by flipping pos-qubits where bit=0\n",
    "        for i, bit in enumerate(bin_idx):\n",
    "            if bit == '0':\n",
    "                circ.x(position_qubits[n - 1 - i])\n",
    "\n",
    "        # 2) for each ‘1’ in the intensity, apply an mcx onto the reversed qubit\n",
    "        for j, bit in enumerate(intensity_bin):\n",
    "            if bit == '1':\n",
    "                circ.mcx(\n",
    "                    control_qubits=position_qubits,\n",
    "                    target_qubit=intensity_qubits[m - 1 - j]\n",
    "                )\n",
    "\n",
    "        # 3) uncompute the X’s so the pos-register is clean for the next idx\n",
    "        for i, bit in enumerate(bin_idx):\n",
    "            if bit == '0':\n",
    "                circ.x(position_qubits[n - 1 - i])\n",
    "\n",
    "\n",
    "# NEQR function to encode the image\n",
    "def neqr(circ, position_qubits, intensity_qubits, pixel_values):\n",
    "    # Apply Hadamard to position qubits to create superposition\n",
    "    circ.h(position_qubits)\n",
    "    # Encode pixel values\n",
    "    encode_pixel_values(circ, position_qubits, intensity_qubits, pixel_values)\n",
    "\n",
    "\n",
    "# Apply NEQR encoding\n",
    "neqr(qc, position_qubits, intensity_qubits, pixel_values)\n",
    "\n",
    "# Measure all qubits\n",
    "qc.measure(position_qubits[:] + intensity_qubits[:], classical_bits[:])\n",
    "\n",
    "# Visualize the circuit\n",
    "# qc.draw('mpl')"
   ]
  },
  {
   "cell_type": "code",
   "execution_count": 4,
   "metadata": {},
   "outputs": [
    {
     "data": {
      "image/png": "[encoded data removed]",
      "text/plain": [
       "<Figure size 640x480 with 1 Axes>"
      ]
     },
     "metadata": {},
     "output_type": "display_data"
    }
   ],
   "source": [
    "from collections import defaultdict\n",
    "from qiskit import transpile\n",
    "from qiskit_aer import AerSimulator\n",
    "import numpy as np\n",
    "import matplotlib.pyplot as plt\n",
    "\n",
    "# 1) Transpile & run\n",
    "simulator = AerSimulator()\n",
    "t_qc = transpile(qc, simulator)\n",
    "result = simulator.run(t_qc, shots=1000).result()\n",
    "counts = result.get_counts()\n",
    "\n",
    "# 2) Build a dict: position → { intensity → votes }\n",
    "pos2counts = defaultdict(lambda: defaultdict(int))\n",
    "for bitstr, cnt in counts.items():\n",
    "    # MSB-first: first 8 bits = intensity, last 6 bits = position\n",
    "    intensity = int(bitstr[:8],  2)\n",
    "    position  = int(bitstr[8:],   2)\n",
    "    pos2counts[position][intensity] += cnt\n",
    "\n",
    "# 3) Winner-takes-all decode\n",
    "flat = np.zeros(64, dtype=int)\n",
    "for pos, idict in pos2counts.items():\n",
    "    # pick the intensity with the highest vote-count\n",
    "    flat[pos] = max(idict.items(), key=lambda kv: kv[1])[0]\n",
    "\n",
    "# 4) Reshape back to 8×8 and plot\n",
    "retrieve_image = flat.reshape((8,8)).astype(np.uint8)\n",
    "plt.imshow(retrieve_image, cmap='gray', vmin=0, vmax=255)\n",
    "plt.title(\"Retrieved Image\")\n",
    "plt.axis('off')\n",
    "plt.show()\n"
   ]
  },
  {
   "cell_type": "code",
   "execution_count": 5,
   "metadata": {},
   "outputs": [
    {
     "name": "stdout",
     "output_type": "stream",
     "text": [
      "Fidelity between original and retrieved images: 1.0000\n"
     ]
    }
   ],
   "source": [
    "from qiskit.quantum_info import Statevector, state_fidelity\n",
    "import numpy as np\n",
    "\n",
    "# 1) Flatten & normalize the original image\n",
    "original_flat = image.flatten().astype(float)\n",
    "orig_norm     = original_flat / np.linalg.norm(original_flat)\n",
    "\n",
    "# 2) Flatten & normalize the retrieved image\n",
    "retrieved_flat = retrieve_image.flatten().astype(float)\n",
    "retrieved_norm = retrieved_flat / np.linalg.norm(retrieved_flat)\n",
    "\n",
    "# 3) Build statevectors\n",
    "original_state  = Statevector(orig_norm)\n",
    "retrieved_state = Statevector(retrieved_norm)\n",
    "\n",
    "# 4) Compute fidelity\n",
    "fidelity = state_fidelity(original_state, retrieved_state)\n",
    "print(f\"Fidelity between original and retrieved images: {fidelity:.4f}\")\n"
   ]
  },
  {
   "cell_type": "code",
   "execution_count": 6,
   "metadata": {},
   "outputs": [],
   "source": [
    "# fig, ax = plt.subplots(figsize=(10, 6))  # Create a figure and axes\n",
    "# plot_histogram(simplified_counts, title=\"Measurement Outcomes\", bar_labels=True, ax=ax, color=\"pink\")  # Pass the axes to plot_histogram\n",
    "# plt.show()"
   ]
  },
  {
   "cell_type": "code",
   "execution_count": null,
   "metadata": {},
   "outputs": [],
   "source": []
  }
 ],
 "metadata": {
  "kernelspec": {
   "display_name": "KSASF",
   "language": "python",
   "name": "python3"
  },
  "language_info": {
   "codemirror_mode": {
    "name": "ipython",
    "version": 3
   },
   "file_extension": ".py",
   "mimetype": "text/x-python",
   "name": "python",
   "nbconvert_exporter": "python",
   "pygments_lexer": "ipython3",
   "version": "3.13.2"
  }
 },
 "nbformat": 4,
 "nbformat_minor": 2
}
